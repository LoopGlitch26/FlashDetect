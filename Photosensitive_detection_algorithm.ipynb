{
  "cells": [
    {
      "cell_type": "code",
      "source": [
        "# Install and import required libraries\n",
        "!pip install pytube\n",
        "!pip install opencv-python\n",
        "import os\n",
        "import cv2\n",
        "import time\n",
        "import numpy as np\n",
        "import matplotlib.pyplot as plt\n",
        "from google.colab import drive\n",
        "from pytube import YouTube"
      ],
      "metadata": {
        "id": "GhnWe5z83_-y",
        "outputId": "df3e4b16-7bb4-4541-d75a-0cecc8f2de9a",
        "colab": {
          "base_uri": "https://localhost:8080/"
        }
      },
      "execution_count": 1,
      "outputs": [
        {
          "output_type": "stream",
          "name": "stdout",
          "text": [
            "Looking in indexes: https://pypi.org/simple, https://us-python.pkg.dev/colab-wheels/public/simple/\n",
            "Requirement already satisfied: pytube in /usr/local/lib/python3.9/dist-packages (12.1.2)\n",
            "Looking in indexes: https://pypi.org/simple, https://us-python.pkg.dev/colab-wheels/public/simple/\n",
            "Requirement already satisfied: opencv-python in /usr/local/lib/python3.9/dist-packages (4.6.0.66)\n",
            "Requirement already satisfied: numpy>=1.17.3 in /usr/local/lib/python3.9/dist-packages (from opencv-python) (1.24.2)\n"
          ]
        }
      ]
    },
    {
      "cell_type": "code",
      "source": [
        "# Mount Google Drive to access the temporary folder\n",
        "drive.mount('/content/drive')\n",
        "\n",
        "# Define the URL of the YouTube video to download\n",
        "url = \"https://youtu.be/pOnwPiL42Qw\"\n",
        "\n",
        "# Define the path to the temporary folder on Google Drive\n",
        "temp_folder = '/content/drive/My Drive/temp/'\n",
        "\n",
        "# Create the temporary folder if it doesn't exist\n",
        "if not os.path.exists(temp_folder):\n",
        "    os.makedirs(temp_folder)\n",
        "\n",
        "# Download the YouTube video and save it to the temporary folder on Google Drive\n",
        "yt = YouTube(url)\n",
        "stream = yt.streams.get_highest_resolution()\n",
        "temp_file = os.path.join(temp_folder, 'video.mp4')\n",
        "stream.download(output_path=temp_folder, filename='video.mp4')\n",
        "\n",
        "# Analyze the video for flashing lights or contrasting light and dark patterns\n",
        "cap = cv2.VideoCapture(temp_file)\n",
        "\n",
        "# Define the block size and threshold for the standard deviation\n",
        "block_size = 32\n",
        "std_threshold = 30\n",
        "\n",
        "# Loop through each frame of the video\n",
        "num_flashing_frames = 0\n",
        "num_contrasting_frames = 0\n",
        "while cap.isOpened():\n",
        "    # Read the next frame\n",
        "    ret, frame = cap.read()\n",
        "    if not ret:\n",
        "        break\n",
        "    \n",
        "    # Convert the frame to grayscale\n",
        "    gray = cv2.cvtColor(frame, cv2.COLOR_BGR2GRAY)\n",
        "    \n",
        "    # Divide the frame into smaller regions and calculate the standard deviation of each region\n",
        "    regions = [gray[i:i+block_size, j:j+block_size] for i in range(0, gray.shape[0], block_size) for j in range(0, gray.shape[1], block_size)]\n",
        "    stds = np.array([np.std(region) for region in regions])\n",
        "    \n",
        "    # Count the number of regions that exceed the threshold for the standard deviation\n",
        "    num_flashing_regions = np.sum(stds > std_threshold)\n",
        "    num_contrasting_regions = np.sum(stds < std_threshold)\n",
        "    \n",
        "    # Determine whether the frame has enough flashing lights or contrasting light and dark patterns\n",
        "    if num_flashing_regions >= 0.2 * len(regions):\n",
        "        num_flashing_frames += 1\n",
        "    if num_contrasting_regions >= 0.2 * len(regions):\n",
        "        num_contrasting_frames += 1\n",
        "\n",
        "# Determine whether the video has enough flashing lights or contrasting light and dark patterns\n",
        "num_frames = cap.get(cv2.CAP_PROP_FRAME_COUNT)\n",
        "if num_flashing_frames >= 0.2 * num_frames:\n",
        "    print(\"The video has enough flashing lights.\")\n",
        "if num_contrasting_frames >= 0.2 * num_frames:\n",
        "    print(\"The video has enough contrasting light and dark patterns.\")\n",
        "\n",
        "# Release the video capture object and delete the temporary video file from Google Drive\n",
        "cap.release()\n",
        "os.remove(temp_file)"
      ],
      "metadata": {
        "colab": {
          "base_uri": "https://localhost:8080/"
        },
        "id": "evSKhw7feyij",
        "outputId": "9ce015e2-a5e5-4595-f1c0-382a56abc870"
      },
      "execution_count": 7,
      "outputs": [
        {
          "output_type": "stream",
          "name": "stdout",
          "text": [
            "Drive already mounted at /content/drive; to attempt to forcibly remount, call drive.mount(\"/content/drive\", force_remount=True).\n",
            "The video has enough flashing lights.\n",
            "The video has enough contrasting light and dark patterns.\n"
          ]
        }
      ]
    },
    {
      "cell_type": "code",
      "source": [
        "# Define the URL of the YouTube video to analyze\n",
        "url = \"https://youtu.be/pOnwPiL42Qw\"\n",
        "\n",
        "# Create a YouTube object and get the highest resolution stream\n",
        "yt = YouTube(url)\n",
        "stream = yt.streams.get_highest_resolution()\n",
        "\n",
        "# Open the stream and start reading frames\n",
        "cap = cv2.VideoCapture(stream.url)\n",
        "\n",
        "# Define the block size and threshold for the standard deviation\n",
        "block_size = 32\n",
        "std_threshold = 30\n",
        "\n",
        "# Loop through each frame of the video\n",
        "num_flashing_frames = 0\n",
        "num_contrasting_frames = 0\n",
        "while True:\n",
        "    # Read the next frame\n",
        "    ret, frame = cap.read()\n",
        "    if not ret:\n",
        "        break\n",
        "    \n",
        "    # Convert the frame to grayscale\n",
        "    gray = cv2.cvtColor(frame, cv2.COLOR_BGR2GRAY)\n",
        "    \n",
        "    # Divide the frame into smaller regions and calculate the standard deviation of each region\n",
        "    regions = [gray[i:i+block_size, j:j+block_size] for i in range(0, gray.shape[0], block_size) for j in range(0, gray.shape[1], block_size)]\n",
        "\n",
        "    # Calculate the local mean and standard deviation of each region\n",
        "    means = np.array([np.mean(region) for region in regions])\n",
        "    stds = np.array([np.std(region) for region in regions])\n",
        "    \n",
        "    # Calculate the adaptive threshold based on the local contrast of each region\n",
        "    thresholds = means + stds / 2\n",
        "    \n",
        "    # Count the number of regions that exceed the threshold for the standard deviation\n",
        "    num_flashing_regions = np.sum(stds > thresholds)\n",
        "    num_contrasting_regions = np.sum(stds < thresholds)\n",
        "    \n",
        "    # Determine whether the frame has enough flashing lights or contrasting light and dark patterns\n",
        "    if num_flashing_regions >= 0.2 * len(regions):\n",
        "        num_flashing_frames += 1\n",
        "    if num_contrasting_regions >= 0.2 * len(regions):\n",
        "        num_contrasting_frames += 1\n",
        "\n",
        "# Determine whether the video has enough flashing lights or contrasting light and dark patterns\n",
        "num_frames = cap.get(cv2.CAP_PROP_FRAME_COUNT)\n",
        "if num_flashing_frames >= 0.2 * num_frames:\n",
        "    print(\"The video has enough flashing lights.\")\n",
        "if num_contrasting_frames >= 0.2 * num_frames:\n",
        "    print(\"The video has enough contrasting light and dark patterns.\")\n",
        "\n",
        "# Release the video capture object\n",
        "cap.release()\n"
      ],
      "metadata": {
        "id": "57uEgDz_soVq",
        "outputId": "8a7550b4-36a2-450f-d1a8-85c5d9548f34",
        "colab": {
          "base_uri": "https://localhost:8080/"
        }
      },
      "execution_count": 6,
      "outputs": [
        {
          "output_type": "stream",
          "name": "stdout",
          "text": [
            "The video has enough contrasting light and dark patterns.\n"
          ]
        }
      ]
    },
    {
      "cell_type": "code",
      "source": [
        "# Define the URL of the YouTube video to analyze\n",
        "url = \"https://youtu.be/pOnwPiL42Qw\"\n",
        "\n",
        "# Create a YouTube object and get the highest resolution stream\n",
        "yt = YouTube(url)\n",
        "stream = yt.streams.get_highest_resolution()\n",
        "\n",
        "# Open the stream and start reading frames\n",
        "cap = cv2.VideoCapture(stream.url)\n",
        "\n",
        "# Define variables to store the contrast values and frame numbers\n",
        "contrasts = []\n",
        "frame_nums = []\n",
        "\n",
        "# Define a variable to keep track of the frame number\n",
        "frame_num = 0\n",
        "\n",
        "# Define the block size and threshold for the standard deviation\n",
        "block_size = 33\n",
        "std_threshold = 30\n",
        "\n",
        "# Loop through each frame of the video\n",
        "num_flashing_frames = 0\n",
        "num_contrasting_frames = 0\n",
        "\n",
        "# Start timer for measuring execution time\n",
        "start_time = time.time()\n",
        "\n",
        "while True:\n",
        "    # Read the next frame\n",
        "    ret, frame = cap.read()\n",
        "    if not ret:\n",
        "        break\n",
        "    \n",
        "    # Convert the frame to grayscale\n",
        "    gray = cv2.cvtColor(frame, cv2.COLOR_BGR2GRAY)\n",
        "    \n",
        "    # Apply adaptive thresholding to the frame\n",
        "    adaptive_thresh = cv2.adaptiveThreshold(gray, 255, cv2.ADAPTIVE_THRESH_GAUSSIAN_C, cv2.THRESH_BINARY, block_size, std_threshold)\n",
        "    \n",
        "    # Count the number of white pixels in the thresholded image\n",
        "    num_white_pixels = np.sum(adaptive_thresh == 255)\n",
        "    \n",
        "    # Determine whether the frame has enough flashing lights or contrasting light and dark patterns\n",
        "    if num_white_pixels >= 0.2 * gray.size:\n",
        "        num_flashing_frames += 1\n",
        "    if num_white_pixels <= 0.8 * gray.size:\n",
        "        num_contrasting_frames += 1\n",
        "\n",
        "    # Calculate the contrast of the grayscale image\n",
        "    contrast = np.std(gray) / np.mean(gray)\n",
        "\n",
        "    # Add the contrast value and frame number to the lists\n",
        "    contrasts.append(contrast)\n",
        "    frame_nums.append(frame_num)\n",
        "\n",
        "    # Increment the frame number\n",
        "    frame_num += 1\n",
        "\n",
        "# Stop timer for measuring execution time\n",
        "end_time = time.time()\n",
        "\n",
        "# Calculate the execution time\n",
        "execution_time = end_time - start_time\n",
        "\n",
        "# Print the execution time\n",
        "print(f\"Execution time: {execution_time} seconds\")\n",
        "\n",
        "# Determine whether the video has enough flashing lights or contrasting light and dark patterns\n",
        "num_frames = cap.get(cv2.CAP_PROP_FRAME_COUNT)\n",
        "if num_flashing_frames >= 0.2 * num_frames:\n",
        "    print(\"The video has enough flashing lights.\")\n",
        "if num_contrasting_frames >= 0.2 * num_frames:\n",
        "    print(\"The video has enough contrasting light and dark patterns.\")\n",
        "\n",
        "# Plot the contrast values over time\n",
        "plt.plot(frame_nums, contrasts)\n",
        "plt.xlabel(\"Frame Number\")\n",
        "plt.ylabel(\"Contrast\")\n",
        "plt.show()\n",
        "\n",
        "# Release the video capture object\n",
        "cap.release()\n"
      ],
      "metadata": {
        "id": "DFvglcUzIE3q",
        "outputId": "65f415a1-0f66-4a70-e871-b1a307904c3e",
        "colab": {
          "base_uri": "https://localhost:8080/",
          "height": 348
        }
      },
      "execution_count": 12,
      "outputs": [
        {
          "output_type": "stream",
          "name": "stderr",
          "text": [
            "<ipython-input-12-bf2a0e7126b4>:51: RuntimeWarning: invalid value encountered in scalar divide\n",
            "  contrast = np.std(gray) / np.mean(gray)\n"
          ]
        },
        {
          "output_type": "stream",
          "name": "stdout",
          "text": [
            "Execution time: 118.2113618850708 seconds\n",
            "The video has enough flashing lights.\n"
          ]
        },
        {
          "output_type": "display_data",
          "data": {
            "text/plain": [
              "<Figure size 432x288 with 1 Axes>"
            ],
            "image/png": "[encoded data removed]"
          },
          "metadata": {
            "needs_background": "light"
          }
        }
      ]
    }
  ],
  "metadata": {
    "colab": {
      "name": "Photosensitive detection algorithm ",
      "provenance": []
    },
    "kernelspec": {
      "display_name": "Python 3",
      "name": "python3"
    },
    "gpuClass": "standard",
    "accelerator": "TPU"
  },
  "nbformat": 4,
  "nbformat_minor": 0
}